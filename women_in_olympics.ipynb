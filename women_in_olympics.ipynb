{
 "cells": [
  {
   "cell_type": "markdown",
   "id": "ad320826",
   "metadata": {},
   "source": [
    "# Women in Olympics"
   ]
  },
  {
   "cell_type": "markdown",
   "id": "10af4a35",
   "metadata": {},
   "source": [
    "#### Author \n",
    "Dharini Sudarsan\n",
    "\n",
    "#### Project Motivation\n",
    "This project is part of Udacity Data Science Nano Degree Program.\n",
    "\n",
    "#### Dataset\n",
    "https://www.kaggle.com/datasets/heesoo37/120-years-of-olympic-history-athletes-and-results\n",
    "\n",
    "#### Libraries\n",
    "\n",
    "- Numpy\n",
    "- Pandas\n",
    "- Seaborn\n",
    "- Matplotlib\n",
    "\n",
    "#### Article posted on Medium\n",
    "https://medium.com/@dharinisudarsan/women-in-olympics-74b6cba14abf"
   ]
  },
  {
   "cell_type": "markdown",
   "id": "24209970",
   "metadata": {},
   "source": [
    "## Business Understanding"
   ]
  },
  {
   "cell_type": "markdown",
   "id": "52b8dbbe",
   "metadata": {},
   "source": [
    "The questions we answer here are:\n",
    "1) Which countries have had the most women representation over all the years of the Olympics? <br>\n",
    "2) How has the particpation by women over the years? <br>\n",
    "3) Do women contribute medals more during summer olympics or winter olympics? <br> "
   ]
  },
  {
   "cell_type": "code",
   "execution_count": 120,
   "id": "82c62972",
   "metadata": {},
   "outputs": [],
   "source": [
    "import numpy as np\n",
    "import pandas as pd\n",
    "import seaborn as sns\n",
    "from matplotlib import pyplot as plt"
   ]
  },
  {
   "cell_type": "markdown",
   "id": "28888490",
   "metadata": {},
   "source": [
    "## Loading data"
   ]
  },
  {
   "cell_type": "code",
   "execution_count": 121,
   "id": "304e4f95",
   "metadata": {},
   "outputs": [],
   "source": [
    "# Reading data from downloaded files\n",
    "data = pd.read_csv('athlete_events.csv')\n",
    "regions = pd.read_csv('noc_regions.csv')"
   ]
  },
  {
   "cell_type": "markdown",
   "id": "3bbe3488",
   "metadata": {},
   "source": [
    "## Data Understanding"
   ]
  },
  {
   "cell_type": "code",
   "execution_count": 122,
   "id": "524a9b11",
   "metadata": {},
   "outputs": [
    {
     "data": {
      "text/html": [
       "<div>\n",
       "<style scoped>\n",
       "    .dataframe tbody tr th:only-of-type {\n",
       "        vertical-align: middle;\n",
       "    }\n",
       "\n",
       "    .dataframe tbody tr th {\n",
       "        vertical-align: top;\n",
       "    }\n",
       "\n",
       "    .dataframe thead th {\n",
       "        text-align: right;\n",
       "    }\n",
       "</style>\n",
       "<table border=\"1\" class=\"dataframe\">\n",
       "  <thead>\n",
       "    <tr style=\"text-align: right;\">\n",
       "      <th></th>\n",
       "      <th>ID</th>\n",
       "      <th>Name</th>\n",
       "      <th>Sex</th>\n",
       "      <th>Age</th>\n",
       "      <th>Height</th>\n",
       "      <th>Weight</th>\n",
       "      <th>Team</th>\n",
       "      <th>NOC</th>\n",
       "      <th>Games</th>\n",
       "      <th>Year</th>\n",
       "      <th>Season</th>\n",
       "      <th>City</th>\n",
       "      <th>Sport</th>\n",
       "      <th>Event</th>\n",
       "      <th>Medal</th>\n",
       "    </tr>\n",
       "  </thead>\n",
       "  <tbody>\n",
       "    <tr>\n",
       "      <th>179037</th>\n",
       "      <td>89976</td>\n",
       "      <td>Toshimitsu Otsubo</td>\n",
       "      <td>M</td>\n",
       "      <td>22.0</td>\n",
       "      <td>169.0</td>\n",
       "      <td>67.0</td>\n",
       "      <td>Japan</td>\n",
       "      <td>JPN</td>\n",
       "      <td>1968 Winter</td>\n",
       "      <td>1968</td>\n",
       "      <td>Winter</td>\n",
       "      <td>Grenoble</td>\n",
       "      <td>Ice Hockey</td>\n",
       "      <td>Ice Hockey Men's Ice Hockey</td>\n",
       "      <td>NaN</td>\n",
       "    </tr>\n",
       "    <tr>\n",
       "      <th>49027</th>\n",
       "      <td>25262</td>\n",
       "      <td>Olga Valeryevna Danilova</td>\n",
       "      <td>F</td>\n",
       "      <td>21.0</td>\n",
       "      <td>168.0</td>\n",
       "      <td>56.0</td>\n",
       "      <td>Unified Team</td>\n",
       "      <td>EUN</td>\n",
       "      <td>1992 Winter</td>\n",
       "      <td>1992</td>\n",
       "      <td>Winter</td>\n",
       "      <td>Albertville</td>\n",
       "      <td>Cross Country Skiing</td>\n",
       "      <td>Cross Country Skiing Women's 30 kilometres</td>\n",
       "      <td>NaN</td>\n",
       "    </tr>\n",
       "    <tr>\n",
       "      <th>236051</th>\n",
       "      <td>118353</td>\n",
       "      <td>Toshiyuki Tanaka</td>\n",
       "      <td>M</td>\n",
       "      <td>27.0</td>\n",
       "      <td>170.0</td>\n",
       "      <td>65.0</td>\n",
       "      <td>Japan</td>\n",
       "      <td>JPN</td>\n",
       "      <td>2012 Summer</td>\n",
       "      <td>2012</td>\n",
       "      <td>Summer</td>\n",
       "      <td>London</td>\n",
       "      <td>Equestrianism</td>\n",
       "      <td>Equestrianism Mixed Three-Day Event, Team</td>\n",
       "      <td>NaN</td>\n",
       "    </tr>\n",
       "  </tbody>\n",
       "</table>\n",
       "</div>"
      ],
      "text/plain": [
       "            ID                      Name Sex   Age  Height  Weight  \\\n",
       "179037   89976         Toshimitsu Otsubo   M  22.0   169.0    67.0   \n",
       "49027    25262  Olga Valeryevna Danilova   F  21.0   168.0    56.0   \n",
       "236051  118353          Toshiyuki Tanaka   M  27.0   170.0    65.0   \n",
       "\n",
       "                Team  NOC        Games  Year  Season         City  \\\n",
       "179037         Japan  JPN  1968 Winter  1968  Winter     Grenoble   \n",
       "49027   Unified Team  EUN  1992 Winter  1992  Winter  Albertville   \n",
       "236051         Japan  JPN  2012 Summer  2012  Summer       London   \n",
       "\n",
       "                       Sport                                       Event Medal  \n",
       "179037            Ice Hockey                 Ice Hockey Men's Ice Hockey   NaN  \n",
       "49027   Cross Country Skiing  Cross Country Skiing Women's 30 kilometres   NaN  \n",
       "236051         Equestrianism   Equestrianism Mixed Three-Day Event, Team   NaN  "
      ]
     },
     "execution_count": 122,
     "metadata": {},
     "output_type": "execute_result"
    }
   ],
   "source": [
    "data.sample(3)"
   ]
  },
  {
   "cell_type": "code",
   "execution_count": 123,
   "id": "c73cd2b1",
   "metadata": {},
   "outputs": [
    {
     "name": "stdout",
     "output_type": "stream",
     "text": [
      "<class 'pandas.core.frame.DataFrame'>\n",
      "RangeIndex: 271116 entries, 0 to 271115\n",
      "Data columns (total 15 columns):\n",
      " #   Column  Non-Null Count   Dtype  \n",
      "---  ------  --------------   -----  \n",
      " 0   ID      271116 non-null  int64  \n",
      " 1   Name    271116 non-null  object \n",
      " 2   Sex     271116 non-null  object \n",
      " 3   Age     261642 non-null  float64\n",
      " 4   Height  210945 non-null  float64\n",
      " 5   Weight  208241 non-null  float64\n",
      " 6   Team    271116 non-null  object \n",
      " 7   NOC     271116 non-null  object \n",
      " 8   Games   271116 non-null  object \n",
      " 9   Year    271116 non-null  int64  \n",
      " 10  Season  271116 non-null  object \n",
      " 11  City    271116 non-null  object \n",
      " 12  Sport   271116 non-null  object \n",
      " 13  Event   271116 non-null  object \n",
      " 14  Medal   39783 non-null   object \n",
      "dtypes: float64(3), int64(2), object(10)\n",
      "memory usage: 31.0+ MB\n"
     ]
    }
   ],
   "source": [
    "data.info()"
   ]
  },
  {
   "cell_type": "code",
   "execution_count": 124,
   "id": "0f7f8ff6",
   "metadata": {},
   "outputs": [
    {
     "data": {
      "text/html": [
       "<div>\n",
       "<style scoped>\n",
       "    .dataframe tbody tr th:only-of-type {\n",
       "        vertical-align: middle;\n",
       "    }\n",
       "\n",
       "    .dataframe tbody tr th {\n",
       "        vertical-align: top;\n",
       "    }\n",
       "\n",
       "    .dataframe thead th {\n",
       "        text-align: right;\n",
       "    }\n",
       "</style>\n",
       "<table border=\"1\" class=\"dataframe\">\n",
       "  <thead>\n",
       "    <tr style=\"text-align: right;\">\n",
       "      <th></th>\n",
       "      <th>NOC</th>\n",
       "      <th>region</th>\n",
       "      <th>notes</th>\n",
       "    </tr>\n",
       "  </thead>\n",
       "  <tbody>\n",
       "    <tr>\n",
       "      <th>182</th>\n",
       "      <td>SMR</td>\n",
       "      <td>San Marino</td>\n",
       "      <td>NaN</td>\n",
       "    </tr>\n",
       "    <tr>\n",
       "      <th>109</th>\n",
       "      <td>KOR</td>\n",
       "      <td>South Korea</td>\n",
       "      <td>NaN</td>\n",
       "    </tr>\n",
       "    <tr>\n",
       "      <th>73</th>\n",
       "      <td>GAM</td>\n",
       "      <td>Gambia</td>\n",
       "      <td>NaN</td>\n",
       "    </tr>\n",
       "  </tbody>\n",
       "</table>\n",
       "</div>"
      ],
      "text/plain": [
       "     NOC       region notes\n",
       "182  SMR   San Marino   NaN\n",
       "109  KOR  South Korea   NaN\n",
       "73   GAM       Gambia   NaN"
      ]
     },
     "execution_count": 124,
     "metadata": {},
     "output_type": "execute_result"
    }
   ],
   "source": [
    "regions.sample(3)"
   ]
  },
  {
   "cell_type": "markdown",
   "id": "8e061df8",
   "metadata": {},
   "source": [
    "Content:\n",
    "The file athlete_events.csv contains 271116 rows and 15 columns; Each row corresponds to an individual athlete competing in an individual Olympic event (athlete-events). The columns are the following:\n",
    "\n",
    "* ID - Unique number for each athlete;\n",
    "* Name - Athlete's name;\n",
    "* Sex - M or F;\n",
    "* Age - Integer;\n",
    "* Height - In centimeters;\n",
    "* Weight - In kilograms;\n",
    "* Team - Team name;\n",
    "* NOC - National Olympic Committee 3-letter code;\n",
    "* Games - Year and season;\n",
    "* Year - Integer;\n",
    "* Season - Summer or Winter;\n",
    "* City - Host city;\n",
    "* Sport - Sport;\n",
    "* Event - Event;\n",
    "* Medal - Gold, Silver, Bronze, or NA."
   ]
  },
  {
   "cell_type": "markdown",
   "id": "805ab279",
   "metadata": {},
   "source": [
    "## Data Preparation"
   ]
  },
  {
   "cell_type": "markdown",
   "id": "8c6f6deb",
   "metadata": {},
   "source": [
    "First, we join the athlete data with region data to get the country/region name"
   ]
  },
  {
   "cell_type": "code",
   "execution_count": 125,
   "id": "5f974c65",
   "metadata": {},
   "outputs": [],
   "source": [
    "# Combining athlete data with regions mapping\n",
    "df = pd.merge(data, regions, on='NOC', how='left')"
   ]
  },
  {
   "cell_type": "code",
   "execution_count": 126,
   "id": "9b85705f",
   "metadata": {},
   "outputs": [
    {
     "data": {
      "text/html": [
       "<div>\n",
       "<style scoped>\n",
       "    .dataframe tbody tr th:only-of-type {\n",
       "        vertical-align: middle;\n",
       "    }\n",
       "\n",
       "    .dataframe tbody tr th {\n",
       "        vertical-align: top;\n",
       "    }\n",
       "\n",
       "    .dataframe thead th {\n",
       "        text-align: right;\n",
       "    }\n",
       "</style>\n",
       "<table border=\"1\" class=\"dataframe\">\n",
       "  <thead>\n",
       "    <tr style=\"text-align: right;\">\n",
       "      <th></th>\n",
       "      <th>ID</th>\n",
       "      <th>Name</th>\n",
       "      <th>Sex</th>\n",
       "      <th>Age</th>\n",
       "      <th>Height</th>\n",
       "      <th>Weight</th>\n",
       "      <th>Team</th>\n",
       "      <th>NOC</th>\n",
       "      <th>Games</th>\n",
       "      <th>Year</th>\n",
       "      <th>Season</th>\n",
       "      <th>City</th>\n",
       "      <th>Sport</th>\n",
       "      <th>Event</th>\n",
       "      <th>Medal</th>\n",
       "      <th>region</th>\n",
       "      <th>notes</th>\n",
       "    </tr>\n",
       "  </thead>\n",
       "  <tbody>\n",
       "    <tr>\n",
       "      <th>0</th>\n",
       "      <td>1</td>\n",
       "      <td>A Dijiang</td>\n",
       "      <td>M</td>\n",
       "      <td>24.0</td>\n",
       "      <td>180.0</td>\n",
       "      <td>80.0</td>\n",
       "      <td>China</td>\n",
       "      <td>CHN</td>\n",
       "      <td>1992 Summer</td>\n",
       "      <td>1992</td>\n",
       "      <td>Summer</td>\n",
       "      <td>Barcelona</td>\n",
       "      <td>Basketball</td>\n",
       "      <td>Basketball Men's Basketball</td>\n",
       "      <td>NaN</td>\n",
       "      <td>China</td>\n",
       "      <td>NaN</td>\n",
       "    </tr>\n",
       "    <tr>\n",
       "      <th>1</th>\n",
       "      <td>2</td>\n",
       "      <td>A Lamusi</td>\n",
       "      <td>M</td>\n",
       "      <td>23.0</td>\n",
       "      <td>170.0</td>\n",
       "      <td>60.0</td>\n",
       "      <td>China</td>\n",
       "      <td>CHN</td>\n",
       "      <td>2012 Summer</td>\n",
       "      <td>2012</td>\n",
       "      <td>Summer</td>\n",
       "      <td>London</td>\n",
       "      <td>Judo</td>\n",
       "      <td>Judo Men's Extra-Lightweight</td>\n",
       "      <td>NaN</td>\n",
       "      <td>China</td>\n",
       "      <td>NaN</td>\n",
       "    </tr>\n",
       "    <tr>\n",
       "      <th>2</th>\n",
       "      <td>3</td>\n",
       "      <td>Gunnar Nielsen Aaby</td>\n",
       "      <td>M</td>\n",
       "      <td>24.0</td>\n",
       "      <td>NaN</td>\n",
       "      <td>NaN</td>\n",
       "      <td>Denmark</td>\n",
       "      <td>DEN</td>\n",
       "      <td>1920 Summer</td>\n",
       "      <td>1920</td>\n",
       "      <td>Summer</td>\n",
       "      <td>Antwerpen</td>\n",
       "      <td>Football</td>\n",
       "      <td>Football Men's Football</td>\n",
       "      <td>NaN</td>\n",
       "      <td>Denmark</td>\n",
       "      <td>NaN</td>\n",
       "    </tr>\n",
       "  </tbody>\n",
       "</table>\n",
       "</div>"
      ],
      "text/plain": [
       "   ID                 Name Sex   Age  Height  Weight     Team  NOC  \\\n",
       "0   1            A Dijiang   M  24.0   180.0    80.0    China  CHN   \n",
       "1   2             A Lamusi   M  23.0   170.0    60.0    China  CHN   \n",
       "2   3  Gunnar Nielsen Aaby   M  24.0     NaN     NaN  Denmark  DEN   \n",
       "\n",
       "         Games  Year  Season       City       Sport  \\\n",
       "0  1992 Summer  1992  Summer  Barcelona  Basketball   \n",
       "1  2012 Summer  2012  Summer     London        Judo   \n",
       "2  1920 Summer  1920  Summer  Antwerpen    Football   \n",
       "\n",
       "                          Event Medal   region notes  \n",
       "0   Basketball Men's Basketball   NaN    China   NaN  \n",
       "1  Judo Men's Extra-Lightweight   NaN    China   NaN  \n",
       "2       Football Men's Football   NaN  Denmark   NaN  "
      ]
     },
     "execution_count": 126,
     "metadata": {},
     "output_type": "execute_result"
    }
   ],
   "source": [
    "df.head(3)"
   ]
  },
  {
   "cell_type": "markdown",
   "id": "fbfef970",
   "metadata": {},
   "source": [
    "We then remove the columns that we do not require for answering the above questions, especially Age, Height, Weight which have many nulls"
   ]
  },
  {
   "cell_type": "code",
   "execution_count": 127,
   "id": "38e8d407",
   "metadata": {},
   "outputs": [],
   "source": [
    "df = df.drop(['Age', 'Height', 'Weight', 'notes', 'NOC', 'Team'], axis=1)"
   ]
  },
  {
   "cell_type": "markdown",
   "id": "05aa77a9",
   "metadata": {},
   "source": [
    "Checking how many nulls in each column"
   ]
  },
  {
   "cell_type": "code",
   "execution_count": 128,
   "id": "68c2c58f",
   "metadata": {},
   "outputs": [
    {
     "name": "stdout",
     "output_type": "stream",
     "text": [
      "ID             0\n",
      "Name           0\n",
      "Sex            0\n",
      "Games          0\n",
      "Year           0\n",
      "Season         0\n",
      "City           0\n",
      "Sport          0\n",
      "Event          0\n",
      "Medal     231333\n",
      "region       370\n",
      "dtype: int64\n"
     ]
    }
   ],
   "source": [
    "print(df.isnull().sum())"
   ]
  },
  {
   "cell_type": "markdown",
   "id": "1bc59a8f",
   "metadata": {},
   "source": [
    "Medals have a NaN in about 231333 rows. NaN in Medals indicate no win, hence filling na with 'None'"
   ]
  },
  {
   "cell_type": "code",
   "execution_count": 129,
   "id": "87605930",
   "metadata": {},
   "outputs": [],
   "source": [
    "df['Medal'].fillna('None', inplace = True)"
   ]
  },
  {
   "cell_type": "markdown",
   "id": "9c4c9aae",
   "metadata": {},
   "source": [
    " ## Modelling and Evaluation"
   ]
  },
  {
   "cell_type": "markdown",
   "id": "a3897f6c",
   "metadata": {},
   "source": [
    "### Q1: Which countries have had the most women representation?"
   ]
  },
  {
   "cell_type": "code",
   "execution_count": 130,
   "id": "1309ec81",
   "metadata": {},
   "outputs": [
    {
     "data": {
      "text/plain": [
       "region\n",
       "USA          2613\n",
       "Germany      2098\n",
       "Russia       1799\n",
       "Canada       1611\n",
       "UK           1565\n",
       "China        1516\n",
       "Australia    1283\n",
       "Japan        1264\n",
       "France       1157\n",
       "Italy        1032\n",
       "Name: ID, dtype: int64"
      ]
     },
     "execution_count": 130,
     "metadata": {},
     "output_type": "execute_result"
    }
   ],
   "source": [
    "# Getting count of women particpants by country\n",
    "df_q1_F = df[df.Sex == 'F']\n",
    "df_q1_F = df_q1_F.groupby(by=['region'])['ID'].nunique().sort_values(ascending=False)\n",
    "df_q1_F[:10]"
   ]
  },
  {
   "cell_type": "code",
   "execution_count": 131,
   "id": "1a95f5a7",
   "metadata": {},
   "outputs": [],
   "source": [
    "# Getting count of all participants by country\n",
    "df_q1_all = df.groupby(by=['region'])['ID'].nunique()\n",
    "\n",
    "# Joining with only Female dataset to calculate %\n",
    "df_q1 = pd.merge(df_q1_F, df_q1_all, on='region', how='left')\n",
    "df_q1['percentage_of_women'] = df_q1['ID_x']*100/df_q1['ID_y']\n",
    "df_q1 = df_q1.drop(['ID_x', 'ID_y'], axis=1).sort_values('percentage_of_women', axis=0, ascending=False)"
   ]
  },
  {
   "cell_type": "code",
   "execution_count": 132,
   "id": "10b9b354",
   "metadata": {},
   "outputs": [
    {
     "data": {
      "image/png": "[encoded data removed]",
      "text/plain": [
       "<Figure size 1080x576 with 1 Axes>"
      ]
     },
     "metadata": {},
     "output_type": "display_data"
    }
   ],
   "source": [
    "# Visualization\n",
    "n = 10\n",
    "sns.set(rc = {'figure.figsize':(n+5,8)}) \n",
    "plt.xticks(rotation=20)\n",
    "sns.barplot(x=df_q1.index[:n], y=df_q1['percentage_of_women'][:n])\n",
    "plt.ylabel(\"Women (%)\")\n",
    "plt.show()"
   ]
  },
  {
   "cell_type": "code",
   "execution_count": 133,
   "id": "eb3114e5",
   "metadata": {},
   "outputs": [
    {
     "data": {
      "text/plain": [
       "region\n",
       "Uruguay         7.650273\n",
       "Syria           5.825243\n",
       "Iran            5.703422\n",
       "Afghanistan     3.883495\n",
       "Monaco          3.658537\n",
       "Qatar           3.546099\n",
       "Iraq            3.092784\n",
       "Pakistan        3.030303\n",
       "Saudi Arabia    2.684564\n",
       "Kuwait          1.562500\n",
       "Name: percentage_of_women, dtype: float64"
      ]
     },
     "execution_count": 133,
     "metadata": {},
     "output_type": "execute_result"
    }
   ],
   "source": [
    "# lowest percentages\n",
    "df_q1['percentage_of_women'][-10:]"
   ]
  },
  {
   "cell_type": "code",
   "execution_count": 134,
   "id": "b0c11004",
   "metadata": {},
   "outputs": [
    {
     "data": {
      "text/plain": [
       "region\n",
       "China    1516\n",
       "Name: ID, dtype: int64"
      ]
     },
     "execution_count": 134,
     "metadata": {},
     "output_type": "execute_result"
    }
   ],
   "source": [
    "# Women particpants from China\n",
    "df_q1_F[df_q1_F.index == 'China']"
   ]
  },
  {
   "cell_type": "markdown",
   "id": "3f023156",
   "metadata": {},
   "source": [
    "### Q2: How does the women to men ratio trend over the years?"
   ]
  },
  {
   "cell_type": "code",
   "execution_count": 135,
   "id": "2f046264",
   "metadata": {},
   "outputs": [],
   "source": [
    "# Getting count of women particpants by Year\n",
    "df_q2 = df[df.Sex == 'F']\n",
    "df_q2 = df_q2.groupby(by=['Year'])['ID'].nunique()"
   ]
  },
  {
   "cell_type": "code",
   "execution_count": 136,
   "id": "5bc5713a",
   "metadata": {},
   "outputs": [
    {
     "data": {
      "image/png": "[encoded data removed]",
      "text/plain": [
       "<Figure size 1080x576 with 1 Axes>"
      ]
     },
     "metadata": {},
     "output_type": "display_data"
    }
   ],
   "source": [
    "# Plotting\n",
    "sns.set(rc = {'figure.figsize':(15,8)}) \n",
    "plt.xticks(rotation=20)\n",
    "sns.barplot(x=df_q2.index, y=df_q2);\n",
    "plt.ylabel(\"Number of Women\")\n",
    "plt.show()"
   ]
  },
  {
   "cell_type": "markdown",
   "id": "49a468bf",
   "metadata": {},
   "source": [
    "### Q3: Do women contribute medals more during summer olympics or winter olympics? "
   ]
  },
  {
   "cell_type": "code",
   "execution_count": 137,
   "id": "65a35656",
   "metadata": {},
   "outputs": [],
   "source": [
    "# Getting count of women particpants by Season (after year 1994)\n",
    "df_q3_F = df[df.Year >= 1994]\n",
    "df_q3_F = df_q3_F[df_q3_F.Sex == 'F']\n",
    "df_q3_F = df_q3_F[df_q3_F.Medal != 'None']\n",
    "df_q3_F = df_q3_F.groupby(by=['Season'])['ID'].nunique()"
   ]
  },
  {
   "cell_type": "code",
   "execution_count": 138,
   "id": "88c0c69f",
   "metadata": {},
   "outputs": [],
   "source": [
    "# Getting count of all particpants by Season (after year 1994)\n",
    "df_q3_all = df[df.Year >= 1994]\n",
    "df_q3_all = df_q3_all[df_q3_all.Medal != 'None']\n",
    "df_q3_all = df_q3_all.groupby(by=['Season'])['ID'].nunique()\n",
    "\n",
    "# Joining to only female dataset and calculating percentage\n",
    "df_q3 = pd.merge(df_q3_F, df_q3_all, on='Season', how='left')\n",
    "df_q3['percentage_won_by_women'] = df_q3['ID_x']*100/df_q3['ID_y']\n",
    "df_q3 = df_q3.drop(['ID_x', 'ID_y'], axis=1)"
   ]
  },
  {
   "cell_type": "code",
   "execution_count": 139,
   "id": "2f46be6d",
   "metadata": {},
   "outputs": [
    {
     "data": {
      "image/png": "[encoded data removed]",
      "text/plain": [
       "<Figure size 576x576 with 1 Axes>"
      ]
     },
     "metadata": {},
     "output_type": "display_data"
    }
   ],
   "source": [
    "# Plotting\n",
    "sns.set(rc = {'figure.figsize':(8,8)}) \n",
    "plt.xticks(rotation=20)\n",
    "sns.barplot(x=df_q3.index, y=df_q3['percentage_won_by_women']);\n",
    "plt.ylabel(\"percentage_won_by_women\")\n",
    "plt.show()"
   ]
  },
  {
   "cell_type": "code",
   "execution_count": 140,
   "id": "dcd6c4d7",
   "metadata": {},
   "outputs": [
    {
     "data": {
      "text/html": [
       "<div>\n",
       "<style scoped>\n",
       "    .dataframe tbody tr th:only-of-type {\n",
       "        vertical-align: middle;\n",
       "    }\n",
       "\n",
       "    .dataframe tbody tr th {\n",
       "        vertical-align: top;\n",
       "    }\n",
       "\n",
       "    .dataframe thead th {\n",
       "        text-align: right;\n",
       "    }\n",
       "</style>\n",
       "<table border=\"1\" class=\"dataframe\">\n",
       "  <thead>\n",
       "    <tr style=\"text-align: right;\">\n",
       "      <th></th>\n",
       "      <th>percentage_won_by_women</th>\n",
       "    </tr>\n",
       "    <tr>\n",
       "      <th>Season</th>\n",
       "      <th></th>\n",
       "    </tr>\n",
       "  </thead>\n",
       "  <tbody>\n",
       "    <tr>\n",
       "      <th>Summer</th>\n",
       "      <td>43.559939</td>\n",
       "    </tr>\n",
       "    <tr>\n",
       "      <th>Winter</th>\n",
       "      <td>40.821918</td>\n",
       "    </tr>\n",
       "  </tbody>\n",
       "</table>\n",
       "</div>"
      ],
      "text/plain": [
       "        percentage_won_by_women\n",
       "Season                         \n",
       "Summer                43.559939\n",
       "Winter                40.821918"
      ]
     },
     "execution_count": 140,
     "metadata": {},
     "output_type": "execute_result"
    }
   ],
   "source": [
    "# Getting numbers\n",
    "df_q3"
   ]
  }
 ],
 "metadata": {
  "kernelspec": {
   "display_name": "Python 3",
   "language": "python",
   "name": "python3"
  },
  "language_info": {
   "codemirror_mode": {
    "name": "ipython",
    "version": 3
   },
   "file_extension": ".py",
   "mimetype": "text/x-python",
   "name": "python",
   "nbconvert_exporter": "python",
   "pygments_lexer": "ipython3",
   "version": "3.8.8"
  }
 },
 "nbformat": 4,
 "nbformat_minor": 5
}
